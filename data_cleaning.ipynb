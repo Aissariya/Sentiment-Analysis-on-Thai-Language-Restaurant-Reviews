{
  "cells": [
    {
      "cell_type": "markdown",
      "metadata": {
        "id": "A6mScL6VqgOR"
      },
      "source": [
        "#อิโมจิ\n",
        "ลบอิโมจิทั้งหมด เช่น 😬, 🎉, 🚗, เป็นต้น\n",
        "#ข้อความที่ลงท้ายด้วย ...\n",
        "ลบข้อความที่มี ... และติดกันจนถึงช่องว่างถัดไป เช่น อ... จะถูกลบออกไป\n",
        "#ตัวอักษรซ้ำ\n",
        "ลดตัวอักษรที่ซ้ำกันหลายตัวให้เหลือเพียงตัวเดียว เช่น \"มากกกก\" -> \"มาก\", \"เยี่ยมมม\" -> \"เยี่ยม\"\n",
        "#แฮชแท็ก\n",
        "ลบข้อความที่ขึ้นต้นด้วย # เช่น #WongnaiThaiSpecialist, #อร่อยมาก\n",
        "#\"555\"\n",
        "ลบข้อความที่เป็น 555, 55555 หรือข้อความที่แสดงเสียงหัวเราะแบบนี้ออกทั้งหมด\n",
        "#ข้อความที่มี \"+\"\n",
        "แทนที่ + ระหว่างคำด้วยคำว่า \"และ\" เช่น ข้าว+แกง -> ข้าว และ แกง\n",
        "#รูปแบบเวลา\n",
        "คงรูปแบบเวลา เช่น 8:30-15:00, 18:30, 18.30 โดยไม่เปลี่ยนแปลงอะไร\n",
        "#ช่วงตัวเลขที่มี -\n",
        "แปลงข้อความที่มี - ระหว่างตัวเลข เช่น 100-200 เป็น 100 ถึง 200\n",
        "#ข้อความติดกับตัวเลข\n",
        "เพิ่มช่องว่างหน้าตัวเลขและหลังตัวเลข เช่น เสียใจทั้ง2ฝ่าย -> เสียใจทั้ง 2 ฝ่าย\n",
        "ยกเว้นในกรณีที่ข้อความเป็นเวลา (18:30) หรือข้อความที่มี / (4/5)\n",
        "#ข้อความที่มี /\n",
        "คงรูปข้อความที่มี / เช่น 4/5, 1/2 โดยไม่เปลี่ยนแปลงอะไร\n",
        "#ลบลิงก์ URL\n",
        "ลบข้อความที่เป็นลิงก์ เช่น http://example.com, www.example.com\n",
        "#จัดการช่องว่าง\n",
        "ลบช่องว่างที่ซ้ำซ้อน และจัดรูปแบบข้อความให้สวยงาม"
      ]
    },
    {
      "cell_type": "code",
      "execution_count": null,
      "metadata": {
        "colab": {
          "base_uri": "https://localhost:8080/"
        },
        "id": "gIj9bM_V98H7",
        "outputId": "1a9e4e4f-4525-41be-ac81-8818086b6a5a"
      },
      "outputs": [],
      "source": [
        "!pip install datasets pandas"
      ]
    },
    {
      "cell_type": "code",
      "execution_count": null,
      "metadata": {
        "colab": {
          "base_uri": "https://localhost:8080/"
        },
        "id": "m9fNgGBNt-CE",
        "outputId": "15f2a7a4-e195-45ef-c355-63a0f1976e91"
      },
      "outputs": [],
      "source": [
        "!pip install pythainlp"
      ]
    },
    {
      "cell_type": "code",
      "execution_count": null,
      "metadata": {
        "id": "U2tScqoR-PBY"
      },
      "outputs": [],
      "source": [
        "from pythainlp.tokenize import word_tokenize\n",
        "from pythainlp.spell import correct\n",
        "from datasets import load_dataset\n",
        "import re"
      ]
    },
    {
      "cell_type": "code",
      "execution_count": null,
      "metadata": {
        "colab": {
          "base_uri": "https://localhost:8080/",
          "height": 206
        },
        "id": "a06_Sy0jBsSP",
        "outputId": "62ae622e-5168-4cd1-c5f7-189eb2d7e660"
      },
      "outputs": [],
      "source": [
        "import pandas as pd\n",
        "\n",
        "# โหลดไฟล์ train.csv จาก runtime\n",
        "dataset = pd.read_csv('/content/drive/MyDrive/Dataset/Combined_Data_with_Text_Length.csv')\n",
        "\n",
        "dataset.head()"
      ]
    },
    {
      "cell_type": "code",
      "execution_count": null,
      "metadata": {
        "id": "P_fvURnKXutK"
      },
      "outputs": [],
      "source": [
        "# ฟังก์ชันทำความสะอาดข้อความ\n",
        "def clean_text(text):\n",
        "    # หากข้อความเป็นภาษาอังกฤษทั้งดุ้น ให้ลบทิ้ง\n",
        "    if re.fullmatch(r'[A-Za-z0-9\\s.,!?;:/()\\'\"%\\-]+', text):\n",
        "        return None\n",
        "\n",
        "    # ลบอิโมจิ\n",
        "    emoji_pattern = re.compile(\n",
        "        \"[\"\n",
        "        \"\\U0001F600-\\U0001F64F\"  # Emoticons\n",
        "        \"\\U0001F300-\\U0001F5FF\"  # Symbols & Pictographs\n",
        "        \"\\U0001F680-\\U0001F6FF\"  # Transport & Map Symbols\n",
        "        \"\\U0001F700-\\U0001F77F\"  # Alchemical Symbols\n",
        "        \"\\U0001F780-\\U0001F7FF\"  # Geometric Shapes Extended\n",
        "        \"\\U0001F800-\\U0001F8FF\"  # Supplemental Arrows-C\n",
        "        \"\\U0001F900-\\U0001F9FF\"  # Supplemental Symbols and Pictographs\n",
        "        \"\\U0001FA00-\\U0001FA6F\"  # Chess Symbols\n",
        "        \"\\U0001FA70-\\U0001FAFF\"  # Symbols and Pictographs Extended-A\n",
        "        \"\\U00002702-\\U000027B0\"  # Dingbats\n",
        "        \"\\U000024C2-\\U0001F251\"  # Enclosed Characters\n",
        "        \"]+\",\n",
        "        flags=re.UNICODE,\n",
        "    )\n",
        "    text = emoji_pattern.sub(r'', text)\n",
        "\n",
        "    # ลบข้อความที่มี ... และติดกันจนถึงช่องว่างถัดไป\n",
        "    text = re.sub(r'\\S*\\.{3,}', '', text)\n",
        "\n",
        "    # ลบ \"555\" หรือ \"55555\" ออกทั้งหมด\n",
        "    text = re.sub(r'\\b5{3,}\\b', '', text)\n",
        "\n",
        "    # ตัดตัวอักษรซ้ำกัน เหลือเพียงตัวเดียว เช่น \"มากกกก\" -> \"มาก\"\n",
        "    text = re.sub(r'(.)\\1{2,}', r'\\1', text)\n",
        "\n",
        "    # ลบแฮชแท็ก เช่น \"#WongnaiThaiSpecialist\"\n",
        "    text = re.sub(r'#\\S+', '', text)\n",
        "\n",
        "    # แทนที่ \"+\" ระหว่างข้อความด้วยคำว่า \"และ\"\n",
        "    text = re.sub(r'(?<=\\w)\\s*\\+\\s*(?=\\w)', ' และ ', text)\n",
        "\n",
        "    # คงรูปเวลา เช่น \"8:30-15:00\" หรือ \"18:00-22:00 น.\"\n",
        "    text = re.sub(r'(\\d{1,2}:\\d{2}-\\d{1,2}:\\d{2}(?: น\\.)?)', r'\\1', text)\n",
        "\n",
        "    # คงรูป 4/5 หรือข้อความที่มี \"/\" ไม่เปลี่ยนแปลง\n",
        "    text = re.sub(r'(\\d+)/(\\d+)', r'\\1/\\2', text)\n",
        "\n",
        "     # เปลี่ยน \"100-200\" เป็น \"100 ถึง 200\" ถ้า \"-\" อยู่ระหว่างตัวเลข\n",
        "    text = re.sub(r'(\\d+)-(\\d+)', r'\\1 ถึง \\2', text)\n",
        "\n",
        "    # เพิ่มช่องว่างหน้าตัวเลขและหลังตัวเลข ยกเว้นกรณีที่เป็นเวลา หรือมี /\n",
        "    text = re.sub(\n",
        "        r'(\\D)(\\d+)(\\D)',\n",
        "        lambda m: m.group(1) + ' ' + m.group(2) + ' ' + m.group(3)\n",
        "        if ':' not in m.group(0) and '.' not in m.group(0) and '/' not in m.group(0)\n",
        "        else m.group(0),\n",
        "        text,\n",
        "    )\n",
        "\n",
        "    # แทนที่ \\n ด้วยช่องว่าง\n",
        "    text = text.replace('\\n', ' ')\n",
        "\n",
        "    # ลบลิงก์ URL\n",
        "    text = re.sub(r'http\\S+|www\\S+', '', text)\n",
        "\n",
        "    # ลบช่องว่างที่เกินจำเป็น\n",
        "    text = re.sub(r'\\s+', ' ', text).strip()\n",
        "\n",
        "    return text"
      ]
    },
    {
      "cell_type": "code",
      "execution_count": null,
      "metadata": {
        "id": "xuKuQL7CX8DO"
      },
      "outputs": [],
      "source": [
        "# ฟังก์ชันสำหรับตัดคำและแก้ไขคำผิด\n",
        "def tokenize_and_correct_text(text):\n",
        "    tokens = word_tokenize(text, engine='newmm')  # ตัดคำ\n",
        "    corrected_tokens = [correct(word) for word in tokens]  # แก้ไขคำผิด\n",
        "    return ' '.join(corrected_tokens)  # รวมคำกลับเป็นประโยค"
      ]
    },
    {
      "cell_type": "code",
      "execution_count": null,
      "metadata": {
        "id": "hiPR5OfxX-lD"
      },
      "outputs": [],
      "source": [
        "# ใช้ฟังก์ชันทำความสะอาดข้อความและตัดคำกับคอลัมน์ review_body\n",
        "cleaned_reviews = []\n",
        "\n",
        "for _, review in dataset.iterrows():\n",
        "    cleaned_review = clean_text(review[\"review_body\"])\n",
        "    if cleaned_review:  # เก็บเฉพาะข้อความที่ไม่ใช่ภาษาอังกฤษทั้งดุ้น\n",
        "        cleaned_reviews.append({\"review_body\": cleaned_review, \"stars\": review[\"stars\"]})"
      ]
    },
    {
      "cell_type": "code",
      "execution_count": null,
      "metadata": {
        "id": "xBMUHRTtYARy"
      },
      "outputs": [],
      "source": [
        "# แปลงผลลัพธ์กลับไปเป็น Dataset\n",
        "from datasets import Dataset\n",
        "cleaned_dataset = Dataset.from_list(cleaned_reviews)"
      ]
    },
    {
      "cell_type": "code",
      "execution_count": null,
      "metadata": {
        "id": "q3hwN-SUZmbi"
      },
      "outputs": [],
      "source": [
        "# บันทึกข้อมูลทั้งหมดเป็น CSV\n",
        "import pandas as pd"
      ]
    },
    {
      "cell_type": "code",
      "execution_count": null,
      "metadata": {
        "id": "3KHTm0lQfovh"
      },
      "outputs": [],
      "source": [
        "# แปลง Dataset เป็น DataFrame\n",
        "df = pd.DataFrame(cleaned_reviews)"
      ]
    },
    {
      "cell_type": "code",
      "execution_count": null,
      "metadata": {
        "colab": {
          "base_uri": "https://localhost:8080/"
        },
        "id": "X9cuz_bkuEYx",
        "outputId": "706fdaa4-85e5-4903-ff85-b841aeff0e34"
      },
      "outputs": [],
      "source": [
        "# บันทึกเป็นไฟล์ CSV\n",
        "output_file = \"corrected_cleaned_data2.csv\"\n",
        "df.to_csv(output_file, index=False)\n",
        "\n",
        "print(f\"ข้อมูลที่ผ่านการทำความสะอาด ตัดคำ และแก้ไขคำผิด ถูกบันทึกเรียบร้อยในไฟล์: {output_file}\")"
      ]
    },
    {
      "cell_type": "code",
      "execution_count": null,
      "metadata": {
        "colab": {
          "base_uri": "https://localhost:8080/"
        },
        "id": "a9BDcffk9CHI",
        "outputId": "468e15b5-f4d6-4e83-fac5-a0bf57c74b6d"
      },
      "outputs": [],
      "source": [
        "from google.colab import drive\n",
        "drive.mount('/content/drive')"
      ]
    }
  ],
  "metadata": {
    "colab": {
      "provenance": []
    },
    "kernelspec": {
      "display_name": "Python 3",
      "name": "python3"
    },
    "language_info": {
      "name": "python"
    }
  },
  "nbformat": 4,
  "nbformat_minor": 0
}
